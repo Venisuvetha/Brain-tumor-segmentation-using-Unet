{
  "cells": [
    {
      "cell_type": "markdown",
      "metadata": {
        "id": "view-in-github",
        "colab_type": "text"
      },
      "source": [
        "<a href=\"https://colab.research.google.com/github/Venisuvetha/Brain-tumor-segmentation-using-Unet/blob/main/brain_mri_segmentation_eda_and_unet_unet_results.ipynb\" target=\"_parent\"><img src=\"https://colab.research.google.com/assets/colab-badge.svg\" alt=\"Open In Colab\"/></a>"
      ]
    },
    {
      "cell_type": "markdown",
      "id": "olive-intellectual",
      "metadata": {
        "id": "olive-intellectual"
      },
      "source": [
        "# Intro"
      ]
    },
    {
      "cell_type": "code",
      "execution_count": 1,
      "id": "pleased-preference",
      "metadata": {
        "id": "pleased-preference"
      },
      "outputs": [],
      "source": [
        "import pandas as pd\n",
        "import cv2\n",
        "import torch\n",
        "import torchvision\n",
        "from torchvision import utils as vutils\n",
        "from torchvision import transforms\n",
        "from torch import nn\n",
        "from torch.nn import functional as F\n",
        "from torch.utils import data\n",
        "from torch.optim import SGD, Adam\n",
        "from PIL import Image\n",
        "import matplotlib.pyplot as plt\n",
        "import os\n",
        "from statistics import mean\n",
        "import numpy as np # Import NumPy module"
      ]
    },
    {
      "cell_type": "markdown",
      "id": "equivalent-catch",
      "metadata": {
        "id": "equivalent-catch"
      },
      "source": [
        "# EDA"
      ]
    },
    {
      "cell_type": "code",
      "execution_count": 3,
      "id": "vertical-atmosphere",
      "metadata": {
        "colab": {
          "base_uri": "https://localhost:8080/",
          "height": 211
        },
        "id": "vertical-atmosphere",
        "outputId": "73732471-9f56-4cec-e307-cc74295a2fb5"
      },
      "outputs": [
        {
          "output_type": "error",
          "ename": "FileNotFoundError",
          "evalue": "[Errno 2] No such file or directory: '/content/drive/MyDrive/Colab Notebooks/inputs/s'",
          "traceback": [
            "\u001b[0;31m---------------------------------------------------------------------------\u001b[0m",
            "\u001b[0;31mFileNotFoundError\u001b[0m                         Traceback (most recent call last)",
            "\u001b[0;32m<ipython-input-3-72638219835c>\u001b[0m in \u001b[0;36m<cell line: 21>\u001b[0;34m()\u001b[0m\n\u001b[1;32m     19\u001b[0m \u001b[0;34m\u001b[0m\u001b[0m\n\u001b[1;32m     20\u001b[0m \u001b[0mn_files\u001b[0m \u001b[0;34m=\u001b[0m \u001b[0;36m0\u001b[0m\u001b[0;34m\u001b[0m\u001b[0;34m\u001b[0m\u001b[0m\n\u001b[0;32m---> 21\u001b[0;31m \u001b[0;32mfor\u001b[0m \u001b[0mdirectory\u001b[0m \u001b[0;32min\u001b[0m \u001b[0;34m[\u001b[0m\u001b[0mos\u001b[0m\u001b[0;34m.\u001b[0m\u001b[0mpath\u001b[0m\u001b[0;34m.\u001b[0m\u001b[0mjoin\u001b[0m\u001b[0;34m(\u001b[0m\u001b[0mroot\u001b[0m\u001b[0;34m,\u001b[0m\u001b[0mx\u001b[0m\u001b[0;34m)\u001b[0m \u001b[0;32mfor\u001b[0m \u001b[0mx\u001b[0m \u001b[0;32min\u001b[0m \u001b[0mos\u001b[0m\u001b[0;34m.\u001b[0m\u001b[0mlistdir\u001b[0m\u001b[0;34m(\u001b[0m\u001b[0mroot\u001b[0m\u001b[0;34m)\u001b[0m \u001b[0;32mif\u001b[0m \u001b[0mos\u001b[0m\u001b[0;34m.\u001b[0m\u001b[0mpath\u001b[0m\u001b[0;34m.\u001b[0m\u001b[0misdir\u001b[0m\u001b[0;34m(\u001b[0m\u001b[0mos\u001b[0m\u001b[0;34m.\u001b[0m\u001b[0mpath\u001b[0m\u001b[0;34m.\u001b[0m\u001b[0mjoin\u001b[0m\u001b[0;34m(\u001b[0m\u001b[0mroot\u001b[0m\u001b[0;34m,\u001b[0m \u001b[0mx\u001b[0m\u001b[0;34m)\u001b[0m\u001b[0;34m)\u001b[0m\u001b[0;34m]\u001b[0m\u001b[0;34m:\u001b[0m\u001b[0;34m\u001b[0m\u001b[0;34m\u001b[0m\u001b[0m\n\u001b[0m\u001b[1;32m     22\u001b[0m     \u001b[0;32mfor\u001b[0m \u001b[0mfile\u001b[0m \u001b[0;32min\u001b[0m \u001b[0mos\u001b[0m\u001b[0;34m.\u001b[0m\u001b[0mlistdir\u001b[0m\u001b[0;34m(\u001b[0m\u001b[0mdirectory\u001b[0m\u001b[0;34m)\u001b[0m\u001b[0;34m:\u001b[0m\u001b[0;34m\u001b[0m\u001b[0;34m\u001b[0m\u001b[0m\n\u001b[1;32m     23\u001b[0m         \u001b[0mn_files\u001b[0m \u001b[0;34m+=\u001b[0m \u001b[0;36m1\u001b[0m\u001b[0;34m\u001b[0m\u001b[0;34m\u001b[0m\u001b[0m\n",
            "\u001b[0;31mFileNotFoundError\u001b[0m: [Errno 2] No such file or directory: '/content/drive/MyDrive/Colab Notebooks/inputs/s'"
          ]
        }
      ],
      "source": [
        "'''\n",
        "Extract number of positive vs negative samples (where negative samples have an all-zero mask)\n",
        "Check for files without corresponding mask and vice versa\n",
        "'''\n",
        "root = '/content/drive/MyDrive/Colab Notebooks/inputs/s'\n",
        "no_mask = 0\n",
        "no_mask_files = []\n",
        "no_file = 0\n",
        "no_files = []\n",
        "num_empty_masks = 0\n",
        "num_nonempty_masks = 0\n",
        "\n",
        "S = 3 # number of pos/neg samples to take\n",
        "empty_mask_samples = []\n",
        "nonempty_mask_samples = []\n",
        "\n",
        "img_dimensions = []\n",
        "msk_dimensions = []\n",
        "\n",
        "n_files = 0\n",
        "for directory in [os.path.join(root,x) for x in os.listdir(root) if os.path.isdir(os.path.join(root, x))]:\n",
        "    for file in os.listdir(directory):\n",
        "        n_files += 1\n",
        "        img_dimensions.append(np.array(cv2.imread(os.path.join(directory, file))).shape)\n",
        "        #count files with no mask\n",
        "        if 'mask' not in file:\n",
        "            #check if mask exists\n",
        "            mask_path = os.path.join(directory, file[:file.find('.tif')]+'_mask.tif')\n",
        "            if not os.path.exists(mask_path):\n",
        "                no_mask += 1\n",
        "                no_mask_files.append(os.path.join(directory, file))\n",
        "        else:\n",
        "            msk_dimensions.append(np.array(cv2.imread(os.path.join(directory, file), cv2.IMREAD_UNCHANGED)).shape)\n",
        "            #count masks with no file\n",
        "            f_path = os.path.join(directory, file[:file.find('mask')-1]+'.tif')\n",
        "            #check if file exists\n",
        "            if not os.path.exists(f_path):\n",
        "                no_file += 1\n",
        "                no_files.append(os.path.join(directory, file))\n",
        "\n",
        "            #check if mask is empty\n",
        "            j = np.max(cv2.imread(os.path.join(directory, file), cv2.IMREAD_UNCHANGED))\n",
        "            if j > 0:\n",
        "                num_nonempty_masks += 1\n",
        "                if len(nonempty_mask_samples) < S:\n",
        "                    nonempty_mask_samples.append(os.path.join(directory, file))\n",
        "            else:\n",
        "                num_empty_masks += 1\n",
        "                if len(empty_mask_samples) < S:\n",
        "                    empty_mask_samples.append(os.path.join(directory, file))"
      ]
    },
    {
      "cell_type": "code",
      "execution_count": 4,
      "id": "uL0VObOcyO9I",
      "metadata": {
        "colab": {
          "base_uri": "https://localhost:8080/"
        },
        "id": "uL0VObOcyO9I",
        "outputId": "448b5d31-eb1f-4f20-c054-c3509bb6a95a"
      },
      "outputs": [
        {
          "output_type": "stream",
          "name": "stdout",
          "text": [
            "Mounted at /content/drive\n"
          ]
        }
      ],
      "source": [
        "from google.colab import drive\n",
        "# Create a local directory to mount the Google Drive folder\n",
        "local_mount_dir = \"/content/drive\"\n",
        "!mkdir -p \"{https://drive.google.com/drive/folders/1zx0ZFotfBriIhaKEzvLfbRoRFbqa3zkA?usp=drive_link}\"\n",
        "\n",
        "# Mount the Google Drive folder to the local directory\n",
        "drive.mount(local_mount_dir)"
      ]
    },
    {
      "cell_type": "code",
      "execution_count": 5,
      "id": "TX-lOrQhcJFM",
      "metadata": {
        "colab": {
          "base_uri": "https://localhost:8080/"
        },
        "id": "TX-lOrQhcJFM",
        "outputId": "0cceb4e2-ba81-44c2-abe0-92e67a61c5fe"
      },
      "outputs": [
        {
          "output_type": "stream",
          "name": "stdout",
          "text": [
            "Drive already mounted at /content/drive; to attempt to forcibly remount, call drive.mount(\"/content/drive\", force_remount=True).\n"
          ]
        }
      ],
      "source": [
        "from google.colab import drive\n",
        "drive.mount('/content/drive')"
      ]
    },
    {
      "cell_type": "code",
      "execution_count": 6,
      "id": "juvenile-symposium",
      "metadata": {
        "colab": {
          "base_uri": "https://localhost:8080/"
        },
        "id": "juvenile-symposium",
        "outputId": "cf0ce683-1351-4644-8e9c-6ebb6be0d749"
      },
      "outputs": [
        {
          "output_type": "stream",
          "name": "stdout",
          "text": [
            "Image Dimensions\n",
            "0\n",
            "set()\n",
            "Mask Dimensions\n",
            "0\n",
            "set()\n"
          ]
        }
      ],
      "source": [
        "#check variance in dimensions\n",
        "print('Image Dimensions')\n",
        "print(len(set(img_dimensions)))\n",
        "print(set(img_dimensions))\n",
        "print('Mask Dimensions')\n",
        "print(len(set(msk_dimensions)))\n",
        "print(set(msk_dimensions))"
      ]
    },
    {
      "cell_type": "code",
      "execution_count": 7,
      "id": "coastal-result",
      "metadata": {
        "colab": {
          "base_uri": "https://localhost:8080/",
          "height": 521
        },
        "id": "coastal-result",
        "outputId": "c990a20e-f861-43cf-9082-94606027a9aa"
      },
      "outputs": [
        {
          "output_type": "stream",
          "name": "stdout",
          "text": [
            "#No Mask: 0\n",
            "#Mask w/ No File: 0\n",
            "#Total Files 0\n"
          ]
        },
        {
          "output_type": "execute_result",
          "data": {
            "text/plain": [
              "<BarContainer object of 2 artists>"
            ]
          },
          "metadata": {},
          "execution_count": 7
        },
        {
          "output_type": "display_data",
          "data": {
            "text/plain": [
              "<Figure size 640x480 with 1 Axes>"
            ],
            "image/png": "[encoded data removed]"
          },
          "metadata": {}
        }
      ],
      "source": [
        "print(f'#No Mask: {no_mask}')\n",
        "print(f'#Mask w/ No File: {no_file}')\n",
        "print(f'#Total Files {n_files}')\n",
        "\n",
        "plt.figure()\n",
        "plt.title('Num Samples with Pos/Neg Diagnosis')\n",
        "plt.bar([0,1], [num_empty_masks, num_nonempty_masks], tick_label=['Negative', 'Positive'])"
      ]
    },
    {
      "cell_type": "code",
      "execution_count": 8,
      "id": "interior-capital",
      "metadata": {
        "id": "interior-capital",
        "colab": {
          "base_uri": "https://localhost:8080/",
          "height": 1000
        },
        "outputId": "1ea312d0-8c79-496f-ff1f-83cbc55768ae"
      },
      "outputs": [
        {
          "output_type": "display_data",
          "data": {
            "text/plain": [
              "<Figure size 1500x1500 with 12 Axes>"
            ],
            "image/png": "[encoded data removed]"
          },
          "metadata": {}
        }
      ],
      "source": [
        "#display images of negative and positive samples - negative samples have an empty mask\n",
        "fig, axs = plt.subplots(6,2, figsize=(15,15))\n",
        "for ax, col in zip(axs[0], ['MRI', 'Mask']):\n",
        "    ax.set_title(col)\n",
        "\n",
        "display_imgs = empty_mask_samples+nonempty_mask_samples #concat lists for easy plotting\n",
        "#print(display_imgs)\n",
        "for i in range(len(display_imgs)):\n",
        "    mask_path = display_imgs[i]\n",
        "    img_path = mask_path[:mask_path.find('mask')-1]+'.tif'\n",
        "    axs[i,0].imshow(np.array(cv2.imread(img_path)))\n",
        "    axs[i,1].imshow(np.array(cv2.imread(mask_path, cv2.IMREAD_UNCHANGED)))"
      ]
    },
    {
      "cell_type": "markdown",
      "id": "following-topic",
      "metadata": {
        "id": "following-topic"
      },
      "source": [
        "# Create Torch Dataset"
      ]
    },
    {
      "cell_type": "code",
      "execution_count": 9,
      "id": "nonprofit-scientist",
      "metadata": {
        "id": "nonprofit-scientist",
        "colab": {
          "base_uri": "https://localhost:8080/",
          "height": 211
        },
        "outputId": "bb83f953-6e7a-4685-9356-d0e1c88f0930"
      },
      "outputs": [
        {
          "output_type": "error",
          "ename": "KeyboardInterrupt",
          "evalue": "",
          "traceback": [
            "\u001b[0;31m---------------------------------------------------------------------------\u001b[0m",
            "\u001b[0;31mKeyboardInterrupt\u001b[0m                         Traceback (most recent call last)",
            "\u001b[0;32m<ipython-input-9-c8dd194ec04b>\u001b[0m in \u001b[0;36m<cell line: 4>\u001b[0;34m()\u001b[0m\n\u001b[1;32m     11\u001b[0m \u001b[0;34m\u001b[0m\u001b[0m\n\u001b[1;32m     12\u001b[0m             \u001b[0;31m#check if mask is nonempty\u001b[0m\u001b[0;34m\u001b[0m\u001b[0;34m\u001b[0m\u001b[0m\n\u001b[0;32m---> 13\u001b[0;31m             \u001b[0;32mif\u001b[0m \u001b[0mnp\u001b[0m\u001b[0;34m.\u001b[0m\u001b[0mmax\u001b[0m\u001b[0;34m(\u001b[0m\u001b[0mcv2\u001b[0m\u001b[0;34m.\u001b[0m\u001b[0mimread\u001b[0m\u001b[0;34m(\u001b[0m\u001b[0mmask_path\u001b[0m\u001b[0;34m,\u001b[0m \u001b[0mcv2\u001b[0m\u001b[0;34m.\u001b[0m\u001b[0mIMREAD_UNCHANGED\u001b[0m\u001b[0;34m)\u001b[0m\u001b[0;34m)\u001b[0m \u001b[0;34m>\u001b[0m \u001b[0;36m0\u001b[0m\u001b[0;34m:\u001b[0m\u001b[0;34m\u001b[0m\u001b[0;34m\u001b[0m\u001b[0m\n\u001b[0m\u001b[1;32m     14\u001b[0m                 \u001b[0mresult\u001b[0m \u001b[0;34m=\u001b[0m \u001b[0;36m1\u001b[0m\u001b[0;34m\u001b[0m\u001b[0;34m\u001b[0m\u001b[0m\n\u001b[1;32m     15\u001b[0m \u001b[0;34m\u001b[0m\u001b[0m\n",
            "\u001b[0;31mKeyboardInterrupt\u001b[0m: "
          ]
        }
      ],
      "source": [
        "#store list of train files for dataset creation of the form (train_img, mask_img, pos_neg_result(1/0))\n",
        "#these tuples are fed into the datasets we create below\n",
        "file_list = []\n",
        "for directory in [os.path.join(root,x) for x in os.listdir(root) if os.path.isdir(os.path.join(root, x))]:\n",
        "    for file in os.listdir(directory):\n",
        "        #add files to list\n",
        "        if 'mask' not in file:\n",
        "            result = 0\n",
        "            img_path = os.path.join(directory, file)\n",
        "            mask_path = os.path.join(directory, file[:file.find('.tif')]+'_mask.tif')\n",
        "\n",
        "            #check if mask is nonempty\n",
        "            if np.max(cv2.imread(mask_path, cv2.IMREAD_UNCHANGED)) > 0:\n",
        "                result = 1\n",
        "\n",
        "            file_list.append([img_path, mask_path, result])\n"
      ]
    },
    {
      "cell_type": "markdown",
      "id": "incorporated-difference",
      "metadata": {
        "id": "incorporated-difference"
      },
      "source": [
        "**Classification**"
      ]
    },
    {
      "cell_type": "code",
      "execution_count": null,
      "id": "saved-handbook",
      "metadata": {
        "id": "saved-handbook"
      },
      "outputs": [],
      "source": [
        "class Brain_MRI_Classification_Dataset(data.Dataset):\n",
        "    def __init__(self, inputs, transform=None):\n",
        "        self.inputs = inputs\n",
        "        self.transform = transform\n",
        "        self.input_dtype = torch.float32\n",
        "        self.target_dtype = torch.float32\n",
        "\n",
        "    def __len__(self):\n",
        "        return len(self.inputs)\n",
        "\n",
        "    def __getitem__(self, index):\n",
        "        #for classification return only the image and the binary label\n",
        "        img_path = self.inputs[index][0]\n",
        "        image = cv2.imread(img_path)\n",
        "        x = torch.from_numpy(np.transpose(np.array(image), (2,0,1))).type(self.input_dtype)\n",
        "        y = torch.from_numpy(np.array(self.inputs[index][2])).type(self.target_dtype)\n",
        "\n",
        "        if self.transform is not None:\n",
        "            x = self.transform(x)\n",
        "\n",
        "        return x,y\n",
        "\n"
      ]
    },
    {
      "cell_type": "markdown",
      "id": "immediate-baker",
      "metadata": {
        "id": "immediate-baker"
      },
      "source": [
        "**Segmentation**"
      ]
    },
    {
      "cell_type": "code",
      "execution_count": null,
      "id": "subtle-psychology",
      "metadata": {
        "id": "subtle-psychology"
      },
      "outputs": [],
      "source": [
        "class Brain_MRI_Segmentation_Dataset(data.Dataset):\n",
        "    def __init__(self, inputs, transform=None):\n",
        "        self.inputs = inputs\n",
        "        self.transform = transform\n",
        "        self.input_dtype = torch.float32\n",
        "        self.target_dtype = torch.float32\n",
        "\n",
        "    def __len__(self):\n",
        "        return len(self.inputs)\n",
        "\n",
        "    def __getitem__(self, index):\n",
        "        #for classification return only the image and the binary label\n",
        "        img_path = self.inputs[index][0]\n",
        "        mask_path = self.inputs[index][1]\n",
        "        #mask_img = cv2.normalize(cv2.imread(mask_path), None, alpha=0, beta=1, norm_type=cv2.NORM_MINMAX, dtype=cv2.CV_32F)\n",
        "        mask_img = cv2.imread(mask_path, cv2.IMREAD_UNCHANGED)\n",
        "        x = torch.from_numpy(np.transpose(np.array(cv2.imread(img_path)), (2,0,1))).type(self.input_dtype)\n",
        "        y = torch.from_numpy(np.resize(np.array(mask_img)/255., (1,256,256))).type(self.target_dtype)\n",
        "\n",
        "        if self.transform is not None:\n",
        "            x = self.transform(x)\n",
        "            y = self.transform(y)\n",
        "\n",
        "        return x,y"
      ]
    },
    {
      "cell_type": "markdown",
      "id": "assumed-china",
      "metadata": {
        "id": "assumed-china"
      },
      "source": [
        "**IoU Metric**\n",
        "Obtained from: https://www.kaggle.com/iezepov/fast-iou-scoring-metric-in-pytorch-and-numpy"
      ]
    },
    {
      "cell_type": "code",
      "execution_count": null,
      "id": "proprietary-entity",
      "metadata": {
        "id": "proprietary-entity"
      },
      "outputs": [],
      "source": [
        "def iou_pytorch(outputs: torch.Tensor, labels: torch.Tensor, threshold=0.5):\n",
        "    # You can comment out this line if you are passing tensors of equal shape\n",
        "    # But if you are passing output from UNet or something it will most probably\n",
        "    # be with the BATCH x 1 x H x W shape\n",
        "    SMOOTH = 1e-6\n",
        "    outputs = outputs.squeeze(1)  # BATCH x 1 x H x W => BATCH x H x W\n",
        "    labels = labels.squeeze(1)\n",
        "\n",
        "    bin_out = torch.where(outputs > threshold, 1, 0).type(torch.int16)\n",
        "    labels = labels.type(torch.int16)\n",
        "\n",
        "    intersection = (bin_out & labels).float().sum((1, 2))  # Will be zero if Truth=0 or Prediction=0\n",
        "    union = (bin_out | labels).float().sum((1, 2))         # Will be zero if both are 0\n",
        "\n",
        "    iou = (intersection + SMOOTH) / (union + SMOOTH)  # We smooth our division to avoid 0/0\n",
        "\n",
        "    thresholded = torch.clamp(20 * (iou - 0.5), 0, 10).ceil() / 10  # This is equal to comparing with thresolds\n",
        "\n",
        "    return thresholded.mean()  # Or thresholded.mean() if you are interested in average across the batch"
      ]
    },
    {
      "cell_type": "markdown",
      "id": "informative-point",
      "metadata": {
        "id": "informative-point"
      },
      "source": [
        "**Dice Loss**"
      ]
    },
    {
      "cell_type": "code",
      "execution_count": null,
      "id": "stylish-fruit",
      "metadata": {
        "colab": {
          "background_save": true
        },
        "id": "stylish-fruit"
      },
      "outputs": [],
      "source": [
        "#Dice Loss Function - taken from: https://github.com/kevinzakka/pytorch-goodies/blob/master/losses.py\n",
        "def dice_loss(logits, true, eps=1e-7):\n",
        "    \"\"\"Computes the Sørensen–Dice loss.\n",
        "    Note that PyTorch optimizers minimize a loss. In this\n",
        "    case, we would like to maximize the dice loss so we\n",
        "    return the negated dice loss.\n",
        "    Args:\n",
        "        true: a tensor of shape [B, 1, H, W].\n",
        "        logits: a tensor of shape [B, C, H, W]. Corresponds to\n",
        "            the raw output or logits of the model.\n",
        "        eps: added to the denominator for numerical stability.\n",
        "    Returns:\n",
        "        dice_loss: the Sørensen–Dice loss.\n",
        "    \"\"\"\n",
        "    num_classes = logits.shape[1]\n",
        "    if num_classes == 1:\n",
        "        true_1_hot = torch.eye(num_classes + 1)[true.long().squeeze(1)]\n",
        "        true_1_hot = true_1_hot.permute(0, 3, 1, 2).float()\n",
        "        true_1_hot_f = true_1_hot[:, 0:1, :, :]\n",
        "        true_1_hot_s = true_1_hot[:, 1:2, :, :]\n",
        "        true_1_hot = torch.cat([true_1_hot_s, true_1_hot_f], dim=1)\n",
        "        pos_prob = torch.sigmoid(logits)\n",
        "        neg_prob = 1 - pos_prob\n",
        "        probas = torch.cat([pos_prob, neg_prob], dim=1)\n",
        "    else:\n",
        "        true_1_hot = torch.eye(num_classes)[true.long().squeeze(1)]\n",
        "        true_1_hot = true_1_hot.permute(0, 3, 1, 2).float()\n",
        "        probas = F.softmax(logits, dim=1)\n",
        "    true_1_hot = true_1_hot.type(logits.type())\n",
        "    dims = (0,) + tuple(range(2, true.ndimension()))\n",
        "    intersection = torch.sum(probas * true_1_hot, dims)\n",
        "    cardinality = torch.sum(probas + true_1_hot, dims)\n",
        "    dice_loss = (2. * intersection / (cardinality + eps)).mean()\n",
        "    return (1 - dice_loss)"
      ]
    },
    {
      "cell_type": "code",
      "execution_count": null,
      "id": "rough-impact",
      "metadata": {
        "id": "rough-impact"
      },
      "outputs": [],
      "source": [
        "#combined cross entropy and dice loss\n",
        "def bce_dice_loss(output, target):\n",
        "    bce = nn.BCEWithLogitsLoss()\n",
        "    return bce(output, target) + dice_loss(output, target)"
      ]
    },
    {
      "cell_type": "markdown",
      "id": "complete-updating",
      "metadata": {
        "id": "complete-updating"
      },
      "source": [
        "# Models"
      ]
    },
    {
      "cell_type": "markdown",
      "id": "romance-robert",
      "metadata": {
        "id": "romance-robert"
      },
      "source": [
        "**UNet**"
      ]
    },
    {
      "cell_type": "code",
      "execution_count": null,
      "id": "hundred-minority",
      "metadata": {
        "colab": {
          "background_save": true
        },
        "id": "hundred-minority"
      },
      "outputs": [],
      "source": [
        "class ConvBlock(nn.Module):\n",
        "    def __init__(self, in_channels, out_channels):\n",
        "        super(ConvBlock, self).__init__()\n",
        "        self.block = nn.Sequential(\n",
        "            nn.Conv2d(in_channels, out_channels, kernel_size=3, stride=1, padding=1, bias=False),\n",
        "            nn.BatchNorm2d(out_channels),\n",
        "            nn.ReLU(inplace=True),\n",
        "            nn.Conv2d(out_channels, out_channels, kernel_size=3, stride=1, padding=1, bias=False),\n",
        "            nn.BatchNorm2d(out_channels),\n",
        "            nn.ReLU(inplace=True)\n",
        "        )\n",
        "\n",
        "    def forward(self, x):\n",
        "        return self.block(x)\n",
        "\n",
        "class DownConv(nn.Module):\n",
        "    def __init__(self, in_channels, out_channels):\n",
        "        super(DownConv, self).__init__()\n",
        "        self.sequence = nn.Sequential(\n",
        "            ConvBlock(in_channels, out_channels),\n",
        "            nn.MaxPool2d(kernel_size=2, stride=2)\n",
        "        )\n",
        "\n",
        "    def forward(self, x):\n",
        "        return self.sequence(x)\n",
        "\n",
        "class UpConv(nn.Module):\n",
        "    def __init__(self, in_channels, out_channels):\n",
        "        super(UpConv, self).__init__()\n",
        "        self.sequence = nn.Sequential(\n",
        "            nn.ConvTranspose2d(in_channels, in_channels, kernel_size=2, stride=2),\n",
        "            ConvBlock(in_channels, out_channels)\n",
        "        )\n",
        "\n",
        "    def forward(self, x):\n",
        "        return self.sequence(x)\n",
        "\n",
        "class UNet(nn.Module):\n",
        "    def __init__(self, in_channels=3, out_channels=1):\n",
        "        super(UNet, self).__init__()\n",
        "        #input_dim = 256\n",
        "        self.encoder = nn.ModuleList([\n",
        "            DownConv(in_channels, 64), #128\n",
        "            DownConv(64, 128), #64\n",
        "            DownConv(128, 256), #32\n",
        "            DownConv(256, 512) #16\n",
        "        ])\n",
        "\n",
        "        self.bottleneck = ConvBlock(512, 1024)\n",
        "\n",
        "        #extra channels allow for concatenation of skip connections in upsampling block\n",
        "        self.decoder = nn.ModuleList([\n",
        "            UpConv(512+1024,512), #32\n",
        "            UpConv(256+512,256), #64\n",
        "            UpConv(128+256,128), #128\n",
        "            UpConv(64+128,64) #256\n",
        "        ])\n",
        "\n",
        "        self.output_conv = nn.Conv2d(64, out_channels, kernel_size=1)\n",
        "\n",
        "    def forward(self, x):\n",
        "        skips = []\n",
        "        o = x\n",
        "        for layer in self.encoder:\n",
        "            o = layer(o)\n",
        "            skips.append(o)\n",
        "\n",
        "        o = self.bottleneck(o)\n",
        "\n",
        "        for i, layer in enumerate(self.decoder):\n",
        "            #print(o.size())\n",
        "            o = torch.cat((skips[len(skips)-i-1],o), dim=1)\n",
        "            #print(o.size())\n",
        "            o = layer(o)\n",
        "\n",
        "        return self.output_conv(o)"
      ]
    },
    {
      "cell_type": "markdown",
      "id": "white-snowboard",
      "metadata": {
        "id": "white-snowboard"
      },
      "source": [
        "**UNet++**"
      ]
    },
    {
      "cell_type": "code",
      "execution_count": null,
      "id": "passive-starter",
      "metadata": {
        "colab": {
          "background_save": true
        },
        "id": "passive-starter"
      },
      "outputs": [],
      "source": [
        "#depth 5 is the default UNet++ architecture, layer depth-1 is the bottleneck for the traditional UNet architecture\n",
        "class UNetPlusPlus(nn.Module):\n",
        "    def __init__(self, input_channels=3, output_channels=1, depth=5):\n",
        "        super(UNetPlusPlus, self).__init__()\n",
        "        self.depth = depth\n",
        "        self.output_channels = output_channels\n",
        "        self.conv_map = nn.ModuleDict({})\n",
        "        self.pool = nn.MaxPool2d(kernel_size=2, stride=2)\n",
        "        self.upsample = nn.Upsample(scale_factor=2, mode='bilinear', align_corners=True)\n",
        "\n",
        "        #construct all convolution blocks\n",
        "        #sums in input channels account for concatenated skip connections from previous j nodes\n",
        "        for i in range(self.depth):\n",
        "            for j in range(self.depth-i):\n",
        "                if i == 0 and j == 0:\n",
        "                    self.conv_map[str((i,j))] = ConvBlock(in_channels=input_channels, out_channels=32)\n",
        "                #elif i == 0:\n",
        "                 #   self.conv_map[(i,j)] = ConvBlock(in_channels=(32*j)+64, out_channels=32)\n",
        "                elif j == 0:\n",
        "                    self.conv_map[str((i,j))] = ConvBlock(in_channels=32*(2**(i-1)), out_channels=32*(2**i))\n",
        "                else:\n",
        "                    self.conv_map[str((i,j))] = ConvBlock(in_channels=((32*(2**i))*j)+32*(2**(i+1)), out_channels=32*(2**i))\n",
        "\n",
        "        #implement 1x1 convolutions which enable us to compute completed segmentation maps at the supervised nodes:\n",
        "        #X_0,j; j ={1,2,3,...,depth-1}\n",
        "\n",
        "        self.output_convs = nn.ModuleList()\n",
        "        for j in range(depth-1):\n",
        "            self.output_convs.append(nn.Conv2d(32, output_channels, kernel_size=1))\n",
        "\n",
        "    def forward(self, x):\n",
        "        outputs = {}\n",
        "        for j in range(self.depth):\n",
        "            for i in range(self.depth-j):\n",
        "                #X_0,0 takes the input image\n",
        "                if i == 0 and j == 0:\n",
        "                    outputs[(i,j)] = self.conv_map[str((i,j))](x)\n",
        "                #X_i,0 convolves over the downsampled output of the previous convolution in the backbone\n",
        "                elif j == 0:\n",
        "                    outputs[(i,j)] = self.conv_map[str((i,j))]( self.pool(outputs[(i-1,j)]) )\n",
        "                else:\n",
        "                    #concatenate all skip connections from same row\n",
        "                    concats = outputs[(i,0)]\n",
        "                    for j_ in range(1,j):\n",
        "                        concats = torch.cat((outputs[(i,j_)], concats), dim=1)\n",
        "\n",
        "                    #concatenate upsampled output from lower depth to skip connections\n",
        "                    concats = torch.cat( (concats, self.upsample(outputs[(i+1,j-1)])), dim=1 )\n",
        "\n",
        "                    outputs[(i,j)] = self.conv_map[str((i,j))](concats)\n",
        "\n",
        "        #compute averaged output\n",
        "        dev = 'cuda' if torch.cuda.is_available() else 'cpu'\n",
        "        averaged_output = torch.zeros(x.size()[0], self.output_channels, x.size()[2], x.size()[3], requires_grad=True, device=dev)\n",
        "        for j in range(1,self.depth):\n",
        "            averaged_output =  averaged_output + self.output_convs[j-1](outputs[(0,j)])\n",
        "\n",
        "        averaged_output = averaged_output / (self.depth-1)\n",
        "\n",
        "        return averaged_output\n",
        "\n"
      ]
    },
    {
      "cell_type": "markdown",
      "id": "suffering-howard",
      "metadata": {
        "id": "suffering-howard"
      },
      "source": [
        "# Train/Validation Loop"
      ]
    },
    {
      "cell_type": "code",
      "execution_count": null,
      "id": "architectural-persian",
      "metadata": {
        "id": "architectural-persian"
      },
      "outputs": [],
      "source": [
        "#train model\n",
        "#batch -\n",
        "#N,3,256,256\n",
        "#N,1,256,256\n",
        "\n",
        "def run_experiment(model_name, model, optimizer, criterion, train_loader, val_loader, device='cuda', num_epochs=50, clear_mem=True):\n",
        "\n",
        "    #######################\n",
        "    #Train model          #\n",
        "    #######################\n",
        "    print('Model sent to ' + str(device))\n",
        "    model.to(device)\n",
        "    losses = []\n",
        "    train_scores = [] # hold IoU scores\n",
        "    iters = 0\n",
        "    for epoch in range(num_epochs):\n",
        "        if epoch % 10 == 0:\n",
        "            print(f'Epoch {epoch+1}/{num_epochs}')\n",
        "\n",
        "        for i,batch in enumerate(train_loader):\n",
        "            img = batch[0].to(device)\n",
        "            msk = batch[1].to(device)\n",
        "\n",
        "            optimizer.zero_grad()\n",
        "            output = model(img)\n",
        "            loss = criterion(output, msk)\n",
        "            loss.backward()\n",
        "            optimizer.step()\n",
        "\n",
        "            losses.append(loss.item())\n",
        "            train_scores.append(iou_pytorch(output.detach(), msk))\n",
        "\n",
        "            iters += 1\n",
        "\n",
        "            #if iters % 500 == 0:\n",
        "                #print(f'Loss: [{loss}]')\n",
        "\n",
        "    #for i in range(len(train_scores)):\n",
        "     #   train_scores[i] = train_scores[i].mean()\n",
        "\n",
        "    #######################\n",
        "    #Validate model       #\n",
        "    #######################\n",
        "\n",
        "    model.eval()\n",
        "    val_losses = []\n",
        "    val_scores = []\n",
        "\n",
        "    for i,batch in enumerate(val_loader):\n",
        "            img = batch[0].to(device)\n",
        "            msk = batch[1].to(device)\n",
        "\n",
        "            output = model(img)\n",
        "            loss = criterion(output, msk)\n",
        "            val_scores.append(iou_pytorch(output.detach(), msk))\n",
        "            val_losses.append(loss.item())\n",
        "\n",
        "    results = {\n",
        "        'model_name': model_name,\n",
        "        'train_losses': losses,\n",
        "        'train_scores': train_scores,\n",
        "        'val_losses': val_losses,\n",
        "        'val_scores': val_scores\n",
        "    }\n",
        "\n",
        "    if clear_mem:\n",
        "        del model\n",
        "        del optimizer\n",
        "        del criterion\n",
        "        torch.cuda.empty_cache()\n",
        "\n",
        "    return results"
      ]
    },
    {
      "cell_type": "code",
      "execution_count": null,
      "id": "random-twist",
      "metadata": {
        "id": "random-twist"
      },
      "outputs": [],
      "source": [
        "def plot_training_scores(losses, train_scores):\n",
        "    #plot loss and IoU\n",
        "    fig, axs = plt.subplots(1,2, figsize=(5,5))\n",
        "    axs[0].set_title('Train BCE Loss')\n",
        "    axs[0].plot(range(len(losses)), losses)\n",
        "\n",
        "    axs[1].set_title('IoU Score vs Training Step')\n",
        "    axs[1].plot(range(len(train_scores)), train_scores)\n",
        "\n",
        "    print(f'MEAN TRAIN IOU: {torch.mean(torch.tensor(train_scores))}')\n",
        "\n",
        "def plot_validation_scores(val_losses, val_scores):\n",
        "    #plot loss and IoU scores - we use a histogram because we care about the distribution of losses, not its progression\n",
        "    fig, axs = plt.subplots(1,2, figsize=(7,7))\n",
        "    axs[0].set_title('BCE Loss on Validation Set')\n",
        "    axs[0].hist(val_losses)\n",
        "\n",
        "    temp = [t.cpu().item() for t in val_scores]\n",
        "    axs[1].set_title('IoU Scores on Validation Set')\n",
        "    axs[1].hist(temp)\n",
        "    axs[1].axvline(np.median(np.array(temp)), color='k', linestyle='dashed', linewidth=1)\n",
        "    print(f'MEAN VAL IOU: {mean(temp)}')\n",
        "\n",
        "def visualize_segmentation(model, data_loader, num_samples=5, device='cuda'):\n",
        "    #visualize segmentation on unseen samples\n",
        "    fig, axs = plt.subplots(num_samples, 3, figsize=(60,60))\n",
        "\n",
        "    for ax, col in zip(axs[0], ['MRI', 'Ground Truth', 'Predicted Mask']):\n",
        "        ax.set_title(col)\n",
        "\n",
        "    index = 0\n",
        "    for i,batch in enumerate(data_loader):\n",
        "            img = batch[0].to(device)\n",
        "            msk = batch[1].to(device)\n",
        "\n",
        "            output = model(img)\n",
        "\n",
        "            for j in range(batch[0].size()[0]): #iterate over batchsize\n",
        "                axs[index,0].imshow(np.transpose(img[j].detach().cpu().numpy(), (1,2,0)).astype(np.uint8), cmap='bone', interpolation='none')\n",
        "\n",
        "                axs[index,1].imshow(np.transpose(img[j].detach().cpu().numpy(), (1,2,0)).astype(np.uint8), cmap='bone', interpolation='none')\n",
        "                axs[index,1].imshow(torch.squeeze(msk[j]).detach().cpu().numpy(), cmap='Blues', interpolation='none', alpha=0.5)\n",
        "\n",
        "                axs[index,2].imshow(np.transpose(img[j].detach().cpu().numpy(), (1,2,0)).astype(np.uint8), cmap='bone', interpolation='none')\n",
        "                axs[index,2].imshow(torch.squeeze(output[j]).detach().cpu().numpy(), cmap='Greens', interpolation='none', alpha=0.5)\n",
        "\n",
        "                index += 1\n",
        "\n",
        "            if index >= num_samples:\n",
        "                break\n",
        "\n",
        "    plt.tight_layout()"
      ]
    },
    {
      "cell_type": "markdown",
      "id": "enabling-wrist",
      "metadata": {
        "id": "enabling-wrist"
      },
      "source": [
        "# Experiments"
      ]
    },
    {
      "cell_type": "markdown",
      "id": "severe-birmingham",
      "metadata": {
        "id": "severe-birmingham"
      },
      "source": [
        "**UNet with SGD**"
      ]
    },
    {
      "cell_type": "code",
      "execution_count": null,
      "id": "fatty-victim",
      "metadata": {
        "id": "fatty-victim"
      },
      "outputs": [],
      "source": [
        "# Load data\n",
        "with open('https://drive.google.com/drive/folders/1zx0ZFotfBriIhaKEzvLfbRoRFbqa3zkA?usp=drive_link', 'r') as f:\n",
        "    file_list = f.readlines()\n",
        "positive_diagnoses = [x for x in file_list if x[2] == 1]\n",
        "#print(positive_diagnoses[:5])\n",
        "mri_dataset = Brain_MRI_Segmentation_Dataset(positive_diagnoses)\n",
        "\n",
        "validation_size = 100 # Set a positive value for validation_size\n",
        "\n",
        "train_set, val_set = data.random_split(mri_dataset, [len(mri_dataset)-validation_size, validation_size])\n",
        "\n",
        "train_loader = data.DataLoader(dataset=train_set, batch_size=2, shuffle=True)\n",
        "val_loader = data.DataLoader(dataset=val_set, batch_size=2, shuffle=False)\n",
        "\n",
        "device = 'cuda' if torch.cuda.is_available() else 'cpu'\n",
        "\n",
        "num_epochs = 50\n",
        "\n",
        "\n",
        "model = UNet()\n",
        "optimizer = SGD(model.parameters(), lr=0.01, momentum=0.9)\n",
        "criterion = nn.BCEWithLogitsLoss()\n",
        "\n",
        "results = run_experiment('Unet_SGD', model, optimizer, criterion, train_loader, val_loader, device=device, num_epochs=num_epochs, clear_mem=False)"
      ]
    },
    {
      "cell_type": "code",
      "execution_count": null,
      "id": "clean-malta",
      "metadata": {
        "id": "clean-malta"
      },
      "outputs": [],
      "source": [
        "import my_module\n",
        "\n",
        "results = my_module.results\n",
        "plot_training_scores(results['train_losses'], results['train_scores'])\n",
        "plot_validation_scores(results['val_losses'], results['val_scores'])"
      ]
    },
    {
      "cell_type": "code",
      "execution_count": null,
      "id": "constitutional-windsor",
      "metadata": {
        "id": "constitutional-windsor"
      },
      "outputs": [],
      "source": [
        "#visualization over unseen validation samples\n",
        "visualize_segmentation(model, val_loader, num_samples=10, device='cuda')\n",
        "del model\n",
        "del optimizer\n",
        "del criterion\n",
        "torch.cuda.empty_cache()"
      ]
    },
    {
      "cell_type": "markdown",
      "id": "general-battle",
      "metadata": {
        "id": "general-battle"
      },
      "source": [
        "**UNet with Adam**"
      ]
    },
    {
      "cell_type": "code",
      "execution_count": 11,
      "id": "quantitative-frost",
      "metadata": {
        "id": "quantitative-frost",
        "colab": {
          "base_uri": "https://localhost:8080/",
          "height": 211
        },
        "outputId": "20a34aae-36a6-4b5c-8074-e09100e998a7"
      },
      "outputs": [
        {
          "output_type": "error",
          "ename": "NameError",
          "evalue": "name 'UNet' is not defined",
          "traceback": [
            "\u001b[0;31m---------------------------------------------------------------------------\u001b[0m",
            "\u001b[0;31mNameError\u001b[0m                                 Traceback (most recent call last)",
            "\u001b[0;32m<ipython-input-11-10232e2207d3>\u001b[0m in \u001b[0;36m<cell line: 2>\u001b[0;34m()\u001b[0m\n\u001b[1;32m      1\u001b[0m \u001b[0mnum_epochs\u001b[0m \u001b[0;34m=\u001b[0m \u001b[0;36m50\u001b[0m\u001b[0;34m\u001b[0m\u001b[0;34m\u001b[0m\u001b[0m\n\u001b[0;32m----> 2\u001b[0;31m \u001b[0mmodel\u001b[0m \u001b[0;34m=\u001b[0m \u001b[0mUNet\u001b[0m\u001b[0;34m(\u001b[0m\u001b[0;34m)\u001b[0m\u001b[0;34m\u001b[0m\u001b[0;34m\u001b[0m\u001b[0m\n\u001b[0m\u001b[1;32m      3\u001b[0m \u001b[0moptimizer\u001b[0m \u001b[0;34m=\u001b[0m \u001b[0mAdam\u001b[0m\u001b[0;34m(\u001b[0m\u001b[0mmodel\u001b[0m\u001b[0;34m.\u001b[0m\u001b[0mparameters\u001b[0m\u001b[0;34m(\u001b[0m\u001b[0;34m)\u001b[0m\u001b[0;34m)\u001b[0m\u001b[0;34m\u001b[0m\u001b[0;34m\u001b[0m\u001b[0m\n\u001b[1;32m      4\u001b[0m \u001b[0mcriterion\u001b[0m \u001b[0;34m=\u001b[0m \u001b[0mnn\u001b[0m\u001b[0;34m.\u001b[0m\u001b[0mBCEWithLogitsLoss\u001b[0m\u001b[0;34m(\u001b[0m\u001b[0;34m)\u001b[0m\u001b[0;34m\u001b[0m\u001b[0;34m\u001b[0m\u001b[0m\n\u001b[1;32m      5\u001b[0m \u001b[0;34m\u001b[0m\u001b[0m\n",
            "\u001b[0;31mNameError\u001b[0m: name 'UNet' is not defined"
          ]
        }
      ],
      "source": [
        "num_epochs = 50\n",
        "model = UNet()\n",
        "optimizer = Adam(model.parameters())\n",
        "criterion = nn.BCEWithLogitsLoss()\n",
        "\n",
        "results = run_experiment('Unet_Adam', model, optimizer, criterion, train_loader, val_loader, device=device, num_epochs=num_epochs, clear_mem=False)"
      ]
    },
    {
      "cell_type": "code",
      "execution_count": null,
      "id": "handy-shaft",
      "metadata": {
        "id": "handy-shaft"
      },
      "outputs": [],
      "source": [
        "plot_training_scores(results['train_losses'], results['train_scores'])\n",
        "plot_validation_scores(results['val_losses'], results['val_scores'])"
      ]
    },
    {
      "cell_type": "code",
      "execution_count": null,
      "id": "moved-pulse",
      "metadata": {
        "id": "moved-pulse"
      },
      "outputs": [],
      "source": [
        "#visualization over unseen validation samples\n",
        "visualize_segmentation(model, val_loader, num_samples=10, device='cuda')\n",
        "del model\n",
        "del optimizer\n",
        "del criterion\n",
        "torch.cuda.empty_cache()"
      ]
    },
    {
      "cell_type": "markdown",
      "id": "african-emerald",
      "metadata": {
        "id": "african-emerald"
      },
      "source": [
        "**UNet with Augmented Dataset and SGD**"
      ]
    },
    {
      "cell_type": "code",
      "execution_count": null,
      "id": "recreational-civilization",
      "metadata": {
        "id": "recreational-civilization"
      },
      "outputs": [],
      "source": [
        "transform = transforms.Compose([\n",
        "    transforms.RandomHorizontalFlip(),\n",
        "    transforms.RandomVerticalFlip(),\n",
        "    transforms.RandomRotation(90),\n",
        "    transforms.RandomAffine(degrees=15, translate=(0.1, 0.1), scale=(0.8, 0.8))\n",
        "])\n",
        "\n",
        "augmented_mri_dataset = Brain_MRI_Segmentation_Dataset(positive_diagnoses, transform=transform)\n",
        "\n",
        "validation_size = int(0.3 * len(mri_dataset))\n",
        "atrain_set, aval_set = data.random_split(mri_dataset, [len(mri_dataset)-validation_size, validation_size])\n",
        "\n",
        "aug_train_loader = data.DataLoader(dataset=atrain_set, batch_size=2, shuffle=True)\n",
        "aug_val_loader = data.DataLoader(dataset=aval_set, batch_size=2, shuffle=False)\n",
        "\n",
        "num_epochs = 50\n",
        "model = UNet()\n",
        "optimizer = SGD(model.parameters(), lr=0.01, momentum=0.9)\n",
        "criterion = nn.BCEWithLogitsLoss()\n",
        "\n",
        "results = run_experiment('Unet_SGD_AugmentedData', model, optimizer, criterion, aug_train_loader, aug_val_loader, device=device, num_epochs=num_epochs, clear_mem=False)"
      ]
    },
    {
      "cell_type": "code",
      "execution_count": null,
      "id": "vanilla-burns",
      "metadata": {
        "id": "vanilla-burns"
      },
      "outputs": [],
      "source": [
        "plot_training_scores(results['train_losses'], results['train_scores'])\n",
        "plot_validation_scores(results['val_losses'], results['val_scores'])"
      ]
    },
    {
      "cell_type": "code",
      "execution_count": null,
      "id": "complimentary-mustang",
      "metadata": {
        "id": "complimentary-mustang"
      },
      "outputs": [],
      "source": [
        "#visualization over unseen validation samples\n",
        "visualize_segmentation(model, aug_val_loader, num_samples=10, device='cuda')\n",
        "del model\n",
        "del optimizer\n",
        "del criterion\n",
        "torch.cuda.empty_cache()"
      ]
    },
    {
      "cell_type": "markdown",
      "id": "authorized-trauma",
      "metadata": {
        "id": "authorized-trauma"
      },
      "source": [
        "Adam and SGD Optimizers did not provide too much of a difference, but we can observe that the validation distribution of IoU scores is more strongly skewed towards 1 when we use the augmented dataset."
      ]
    },
    {
      "cell_type": "markdown",
      "id": "sexual-stranger",
      "metadata": {
        "id": "sexual-stranger"
      },
      "source": [
        "Another area to experiment is the loss function, while for segmentation tasks we actually want to minimize the dice loss, it sometimes provides bad gradients which leads to crossentropy being used in practice. Let's compare the performance of our previous cross entropy optimization with optimization of the dice loss and a combined crossentropy-dice loss. From now on we'll use the augmented dataset as the model performs best on this."
      ]
    },
    {
      "cell_type": "markdown",
      "id": "residential-horizon",
      "metadata": {
        "id": "residential-horizon"
      },
      "source": [
        "**UNet with Dice Loss**"
      ]
    },
    {
      "cell_type": "code",
      "execution_count": null,
      "id": "actual-score",
      "metadata": {
        "colab": {
          "background_save": true
        },
        "id": "actual-score"
      },
      "outputs": [],
      "source": [
        "num_epochs = 1\n",
        "model = UNet()\n",
        "optimizer = SGD(model.parameters(), lr=0.01, momentum=0.9)\n",
        "criterion = dice_loss\n",
        "\n",
        "results = run_experiment('Unet_SGD_AugmentedData_DiceLoss', model, optimizer, criterion, aug_train_loader, aug_val_loader, device=device, num_epochs=num_epochs, clear_mem=False)"
      ]
    },
    {
      "cell_type": "code",
      "execution_count": null,
      "id": "amber-obligation",
      "metadata": {
        "id": "amber-obligation"
      },
      "outputs": [],
      "source": [
        "plot_training_scores(results['train_losses'], results['train_scores'])\n",
        "plot_validation_scores(results['val_losses'], results['val_scores'])"
      ]
    },
    {
      "cell_type": "code",
      "execution_count": null,
      "id": "brave-nepal",
      "metadata": {
        "id": "brave-nepal"
      },
      "outputs": [],
      "source": [
        "#visualization over unseen validation samples\n",
        "visualize_segmentation(model, aug_val_loader, num_samples=10, device='cuda')\n",
        "del model\n",
        "del optimizer\n",
        "del criterion\n",
        "torch.cuda.empty_cache()"
      ]
    },
    {
      "cell_type": "markdown",
      "id": "textile-photography",
      "metadata": {
        "id": "textile-photography"
      },
      "source": [
        "**UNet with Combined CrossEntropy-Dice Loss**"
      ]
    },
    {
      "cell_type": "code",
      "execution_count": null,
      "id": "interested-windsor",
      "metadata": {
        "id": "interested-windsor"
      },
      "outputs": [],
      "source": [
        "num_epochs = 1\n",
        "model = UNet()\n",
        "optimizer = SGD(model.parameters(), lr=0.01, momentum=0.9)\n",
        "criterion = bce_dice_loss\n",
        "\n",
        "results = run_experiment('Unet_SGD_AugmentedData_CE-DiceLoss', model, optimizer, criterion, aug_train_loader, aug_val_loader, device=device, num_epochs=num_epochs, clear_mem=False)"
      ]
    },
    {
      "cell_type": "markdown",
      "id": "I5tCX2ZjbXJz",
      "metadata": {
        "id": "I5tCX2ZjbXJz"
      },
      "source": []
    },
    {
      "cell_type": "code",
      "execution_count": null,
      "id": "enabling-cleaners",
      "metadata": {
        "id": "enabling-cleaners"
      },
      "outputs": [],
      "source": [
        "plot_training_scores(results['train_losses'], results['train_scores'])\n",
        "plot_validation_scores(results['val_losses'], results['val_scores'])"
      ]
    },
    {
      "cell_type": "code",
      "execution_count": null,
      "id": "colonial-toddler",
      "metadata": {
        "id": "colonial-toddler"
      },
      "outputs": [],
      "source": [
        "#visualization over unseen validation samples\n",
        "visualize_segmentation(model, aug_val_loader, num_samples=10, device='cuda')\n",
        "del model\n",
        "del optimizer\n",
        "del criterion\n",
        "torch.cuda.empty_cache()"
      ]
    },
    {
      "cell_type": "code",
      "execution_count": null,
      "id": "regional-subsection",
      "metadata": {
        "id": "regional-subsection"
      },
      "outputs": [],
      "source": [
        "num_epochs = 50\n",
        "model = UNetPlusPlus()\n",
        "optimizer = Adam(model.parameters(), lr=3e-4)\n",
        "criterion = bce_dice_loss\n",
        "\n",
        "results = run_experiment('Unet++_AugmentedData_CE-DiceLoss', model, optimizer, criterion, aug_train_loader, aug_val_loader, device=device, num_epochs=num_epochs, clear_mem=False)"
      ]
    },
    {
      "cell_type": "code",
      "execution_count": null,
      "id": "derived-absorption",
      "metadata": {
        "colab": {
          "background_save": true
        },
        "id": "derived-absorption"
      },
      "outputs": [],
      "source": [
        "plot_training_scores(results['train_losses'], results['train_scores'])\n",
        "plot_validation_scores(results['val_losses'], results['val_scores'])"
      ]
    },
    {
      "cell_type": "code",
      "execution_count": null,
      "id": "measured-discovery",
      "metadata": {
        "colab": {
          "background_save": true
        },
        "id": "measured-discovery",
        "outputId": "7e0edd85-8cb7-453b-8d3e-070122e16ab5"
      },
      "outputs": [
        {
          "ename": "NameError",
          "evalue": "name 'visualize_segmentation' is not defined",
          "output_type": "error",
          "traceback": [
            "\u001b[0;31m---------------------------------------------------------------------------\u001b[0m",
            "\u001b[0;31mNameError\u001b[0m                                 Traceback (most recent call last)",
            "\u001b[0;32m<ipython-input-31-5785be9f34bb>\u001b[0m in \u001b[0;36m<cell line: 2>\u001b[0;34m()\u001b[0m\n\u001b[1;32m      1\u001b[0m \u001b[0;31m#visualization over unseen validation samples\u001b[0m\u001b[0;34m\u001b[0m\u001b[0;34m\u001b[0m\u001b[0m\n\u001b[0;32m----> 2\u001b[0;31m \u001b[0mvisualize_segmentation\u001b[0m\u001b[0;34m(\u001b[0m\u001b[0mmodel\u001b[0m\u001b[0;34m,\u001b[0m \u001b[0maug_val_loader\u001b[0m\u001b[0;34m,\u001b[0m \u001b[0mnum_samples\u001b[0m\u001b[0;34m=\u001b[0m\u001b[0;36m10\u001b[0m\u001b[0;34m,\u001b[0m \u001b[0mdevice\u001b[0m\u001b[0;34m=\u001b[0m\u001b[0;34m'cuda'\u001b[0m\u001b[0;34m)\u001b[0m\u001b[0;34m\u001b[0m\u001b[0;34m\u001b[0m\u001b[0m\n\u001b[0m",
            "\u001b[0;31mNameError\u001b[0m: name 'visualize_segmentation' is not defined"
          ]
        }
      ],
      "source": [
        "#visualization over unseen validation samples\n",
        "visualize_segmentation(model, aug_val_loader, num_samples=10, device='cuda')"
      ]
    }
  ],
  "metadata": {
    "colab": {
      "provenance": [],
      "toc_visible": true,
      "include_colab_link": true
    },
    "kernelspec": {
      "display_name": "Python 3",
      "language": "python",
      "name": "python3"
    },
    "language_info": {
      "codemirror_mode": {
        "name": "ipython",
        "version": 3
      },
      "file_extension": ".py",
      "mimetype": "text/x-python",
      "name": "python",
      "nbconvert_exporter": "python",
      "pygments_lexer": "ipython3",
      "version": "3.7.9"
    },
    "papermill": {
      "default_parameters": {},
      "duration": 15515.355091,
      "end_time": "2021-10-20T08:03:00.474850",
      "environment_variables": {},
      "exception": null,
      "input_path": "__notebook__.ipynb",
      "output_path": "__notebook__.ipynb",
      "parameters": {},
      "start_time": "2021-10-20T03:44:25.119759",
      "version": "2.3.2"
    }
  },
  "nbformat": 4,
  "nbformat_minor": 5
}